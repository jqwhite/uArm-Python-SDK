{
 "cells": [
  {
   "cell_type": "markdown",
   "metadata": {},
   "source": [
    "# Confirming that your uArm is connected and ready to use. \n",
    "\n",
    "This is a good \"hello world\" for the uArm. This will confirm that everything is set up and ready to go. I'm including the logger functions so that you can confirm that your uArm is working as it should. \n",
    "\n",
    "* uArm must be turned on\n",
    "* uArm must be connected via USB to your machine. \n",
    "* you must be running this notebook with __Administration__ permissions. \n",
    "* you can only have one connection open at a time. Make sure to `swift.disconnect()` before switching to a different notebook. \n",
    "\n",
    "If you are able to run the uArmStudio and move the arm, then you should be good to go. However make sure that you exit uArmStudio to free up the port. "
   ]
  },
  {
   "cell_type": "code",
   "execution_count": 3,
   "metadata": {
    "execution": {
     "iopub.execute_input": "2022-09-26T11:47:09.942266Z",
     "iopub.status.busy": "2022-09-26T11:47:09.942014Z",
     "iopub.status.idle": "2022-09-26T11:47:09.946346Z",
     "shell.execute_reply": "2022-09-26T11:47:09.945635Z",
     "shell.execute_reply.started": "2022-09-26T11:47:09.942242Z"
    },
    "tags": []
   },
   "outputs": [],
   "source": [
    "import sys\n",
    "#the uArm application is inside of the parent directory, this assumes that you are runing this notebook in the `notebooks` directory\n",
    "sys.path.append('..')\n",
    "\n",
    "from uarm.wrapper import SwiftAPI\n",
    "from uarm.utils.log import logger\n",
    "logger.setLevel(logger.VERBOSE)"
   ]
  },
  {
   "cell_type": "markdown",
   "metadata": {},
   "source": [
    "This next item establishes a link between the uArm and your kernel. You can only run this once as only one connection is allowed. Also, if you are running uArmStudio or any other application that connects to the arm this next line will throw an exception. \n",
    "\n",
    "if you get: \n",
    "```\n",
    "SerialException could not open port 'COM3': PermissionError(13, 'Access is denied.', None, 5)\n",
    "```\n",
    "\n",
    "It means that either you are not running with __administrator__ permissions or something else has already made a connection. "
   ]
  },
  {
   "cell_type": "markdown",
   "metadata": {},
   "source": [
    "Things to troubleshoot (Windows):\n",
    "* Administrator mode\n",
    "* Open the device manager, disable the device and enable it again. \n",
    "* Restart your computer\n",
    "* Make sure that UarmStudio or any other program using the arm is closed\n",
    "* Make sure you are specifying the correct port"
   ]
  },
  {
   "cell_type": "code",
   "execution_count": 4,
   "metadata": {
    "execution": {
     "iopub.execute_input": "2022-09-26T11:47:11.226547Z",
     "iopub.status.busy": "2022-09-26T11:47:11.226286Z",
     "iopub.status.idle": "2022-09-26T11:47:11.315578Z",
     "shell.execute_reply": "2022-09-26T11:47:11.314528Z",
     "shell.execute_reply.started": "2022-09-26T11:47:11.226524Z"
    },
    "tags": []
   },
   "outputs": [
    {
     "ename": "SerialException",
     "evalue": "[Errno 2] could not open port COM4: [Errno 2] No such file or directory: 'COM4'",
     "output_type": "error",
     "traceback": [
      "\u001b[0;31m---------------------------------------------------------------------------\u001b[0m",
      "\u001b[0;31mFileNotFoundError\u001b[0m                         Traceback (most recent call last)",
      "File \u001b[0;32m/opt/miniconda3/envs/uarm/lib/python3.9/site-packages/pyserial-3.5-py3.9.egg/serial/serialposix.py:322\u001b[0m, in \u001b[0;36mSerial.open\u001b[0;34m(self)\u001b[0m\n\u001b[1;32m    321\u001b[0m \u001b[38;5;28;01mtry\u001b[39;00m:\n\u001b[0;32m--> 322\u001b[0m     \u001b[38;5;28mself\u001b[39m\u001b[38;5;241m.\u001b[39mfd \u001b[38;5;241m=\u001b[39m \u001b[43mos\u001b[49m\u001b[38;5;241;43m.\u001b[39;49m\u001b[43mopen\u001b[49m\u001b[43m(\u001b[49m\u001b[38;5;28;43mself\u001b[39;49m\u001b[38;5;241;43m.\u001b[39;49m\u001b[43mportstr\u001b[49m\u001b[43m,\u001b[49m\u001b[43m \u001b[49m\u001b[43mos\u001b[49m\u001b[38;5;241;43m.\u001b[39;49m\u001b[43mO_RDWR\u001b[49m\u001b[43m \u001b[49m\u001b[38;5;241;43m|\u001b[39;49m\u001b[43m \u001b[49m\u001b[43mos\u001b[49m\u001b[38;5;241;43m.\u001b[39;49m\u001b[43mO_NOCTTY\u001b[49m\u001b[43m \u001b[49m\u001b[38;5;241;43m|\u001b[39;49m\u001b[43m \u001b[49m\u001b[43mos\u001b[49m\u001b[38;5;241;43m.\u001b[39;49m\u001b[43mO_NONBLOCK\u001b[49m\u001b[43m)\u001b[49m\n\u001b[1;32m    323\u001b[0m \u001b[38;5;28;01mexcept\u001b[39;00m \u001b[38;5;167;01mOSError\u001b[39;00m \u001b[38;5;28;01mas\u001b[39;00m msg:\n",
      "\u001b[0;31mFileNotFoundError\u001b[0m: [Errno 2] No such file or directory: 'COM4'",
      "\nDuring handling of the above exception, another exception occurred:\n",
      "\u001b[0;31mSerialException\u001b[0m                           Traceback (most recent call last)",
      "Input \u001b[0;32mIn [4]\u001b[0m, in \u001b[0;36m<cell line: 2>\u001b[0;34m()\u001b[0m\n\u001b[1;32m      1\u001b[0m \u001b[38;5;66;03m# Note if you are running this you will need to make sure that you run with \"Administrator Permissions\"\u001b[39;00m\n\u001b[0;32m----> 2\u001b[0m swift \u001b[38;5;241m=\u001b[39m \u001b[43mSwiftAPI\u001b[49m\u001b[43m(\u001b[49m\u001b[43mport\u001b[49m\u001b[38;5;241;43m=\u001b[39;49m\u001b[38;5;124;43m\"\u001b[39;49m\u001b[38;5;124;43mCOM4\u001b[39;49m\u001b[38;5;124;43m\"\u001b[39;49m\u001b[43m,\u001b[49m\u001b[43m \u001b[49m\u001b[43mcallback_thread_pool_size\u001b[49m\u001b[38;5;241;43m=\u001b[39;49m\u001b[38;5;241;43m1\u001b[39;49m\u001b[43m)\u001b[49m\n",
      "File \u001b[0;32m/opt/miniconda3/envs/uarm/lib/python3.9/site-packages/uArm_Python_SDK-2.0.6-py3.9.egg/uarm/wrapper/swift_api.py:37\u001b[0m, in \u001b[0;36mSwiftAPI.__init__\u001b[0;34m(self, port, baudrate, timeout, **kwargs)\u001b[0m\n\u001b[1;32m     13\u001b[0m \u001b[38;5;28;01mdef\u001b[39;00m \u001b[38;5;21m__init__\u001b[39m(\u001b[38;5;28mself\u001b[39m, port\u001b[38;5;241m=\u001b[39m\u001b[38;5;28;01mNone\u001b[39;00m, baudrate\u001b[38;5;241m=\u001b[39m\u001b[38;5;241m115200\u001b[39m, timeout\u001b[38;5;241m=\u001b[39m\u001b[38;5;28;01mNone\u001b[39;00m, \u001b[38;5;241m*\u001b[39m\u001b[38;5;241m*\u001b[39mkwargs):\n\u001b[1;32m     14\u001b[0m     \u001b[38;5;124;03m\"\"\"\u001b[39;00m\n\u001b[1;32m     15\u001b[0m \u001b[38;5;124;03m    The API wrapper of Swift and SwiftPro\u001b[39;00m\n\u001b[1;32m     16\u001b[0m \u001b[38;5;124;03m    :param port: default is to select the first port\u001b[39;00m\n\u001b[0;32m   (...)\u001b[0m\n\u001b[1;32m     35\u001b[0m \u001b[38;5;124;03m    default cmd timeout is 2s\u001b[39;00m\n\u001b[1;32m     36\u001b[0m \u001b[38;5;124;03m    \"\"\"\u001b[39;00m\n\u001b[0;32m---> 37\u001b[0m     \u001b[38;5;28mself\u001b[39m\u001b[38;5;241m.\u001b[39m_arm \u001b[38;5;241m=\u001b[39m \u001b[43mSwift\u001b[49m\u001b[43m(\u001b[49m\u001b[43mport\u001b[49m\u001b[38;5;241;43m=\u001b[39;49m\u001b[43mport\u001b[49m\u001b[43m,\u001b[49m\n\u001b[1;32m     38\u001b[0m \u001b[43m                      \u001b[49m\u001b[43mbaudrate\u001b[49m\u001b[38;5;241;43m=\u001b[39;49m\u001b[43mbaudrate\u001b[49m\u001b[43m,\u001b[49m\n\u001b[1;32m     39\u001b[0m \u001b[43m                      \u001b[49m\u001b[43mtimeout\u001b[49m\u001b[38;5;241;43m=\u001b[39;49m\u001b[43mtimeout\u001b[49m\u001b[43m,\u001b[49m\n\u001b[1;32m     40\u001b[0m \u001b[43m                      \u001b[49m\u001b[38;5;241;43m*\u001b[39;49m\u001b[38;5;241;43m*\u001b[39;49m\u001b[43mkwargs\u001b[49m\u001b[43m)\u001b[49m\n",
      "File \u001b[0;32m/opt/miniconda3/envs/uarm/lib/python3.9/site-packages/uArm_Python_SDK-2.0.6-py3.9.egg/uarm/swift/__init__.py:127\u001b[0m, in \u001b[0;36mSwift.__init__\u001b[0;34m(self, port, baudrate, timeout, **kwargs)\u001b[0m\n\u001b[1;32m    124\u001b[0m \u001b[38;5;28mself\u001b[39m\u001b[38;5;241m.\u001b[39m_thread_manage \u001b[38;5;241m=\u001b[39m ThreadManage()\n\u001b[1;32m    126\u001b[0m \u001b[38;5;28;01mif\u001b[39;00m \u001b[38;5;129;01mnot\u001b[39;00m kwargs\u001b[38;5;241m.\u001b[39mget(\u001b[38;5;124m'\u001b[39m\u001b[38;5;124mdo_not_open\u001b[39m\u001b[38;5;124m'\u001b[39m, \u001b[38;5;28;01mFalse\u001b[39;00m):\n\u001b[0;32m--> 127\u001b[0m     \u001b[38;5;28;43mself\u001b[39;49m\u001b[38;5;241;43m.\u001b[39;49m\u001b[43mconnect\u001b[49m\u001b[43m(\u001b[49m\u001b[43m)\u001b[49m\n",
      "File \u001b[0;32m/opt/miniconda3/envs/uarm/lib/python3.9/site-packages/uArm_Python_SDK-2.0.6-py3.9.egg/uarm/swift/__init__.py:390\u001b[0m, in \u001b[0;36mSwift.connect\u001b[0;34m(self, port, baudrate, timeout)\u001b[0m\n\u001b[1;32m    389\u001b[0m \u001b[38;5;28;01mdef\u001b[39;00m \u001b[38;5;21mconnect\u001b[39m(\u001b[38;5;28mself\u001b[39m, port\u001b[38;5;241m=\u001b[39m\u001b[38;5;28;01mNone\u001b[39;00m, baudrate\u001b[38;5;241m=\u001b[39m\u001b[38;5;28;01mNone\u001b[39;00m, timeout\u001b[38;5;241m=\u001b[39m\u001b[38;5;28;01mNone\u001b[39;00m):\n\u001b[0;32m--> 390\u001b[0m     \u001b[38;5;28;43mself\u001b[39;49m\u001b[38;5;241;43m.\u001b[39;49m\u001b[43mserial\u001b[49m\u001b[38;5;241;43m.\u001b[39;49m\u001b[43mconnect\u001b[49m\u001b[43m(\u001b[49m\u001b[43mport\u001b[49m\u001b[43m,\u001b[49m\u001b[43m \u001b[49m\u001b[43mbaudrate\u001b[49m\u001b[43m,\u001b[49m\u001b[43m \u001b[49m\u001b[43mtimeout\u001b[49m\u001b[43m)\u001b[49m\n\u001b[1;32m    391\u001b[0m     \u001b[38;5;28;01mif\u001b[39;00m \u001b[38;5;28mself\u001b[39m\u001b[38;5;241m.\u001b[39mthread_pool_size \u001b[38;5;241m==\u001b[39m \u001b[38;5;241m1\u001b[39m \u001b[38;5;129;01mand\u001b[39;00m asyncio \u001b[38;5;129;01mis\u001b[39;00m \u001b[38;5;129;01mnot\u001b[39;00m \u001b[38;5;28;01mNone\u001b[39;00m:\n\u001b[1;32m    392\u001b[0m         \u001b[38;5;28mself\u001b[39m\u001b[38;5;241m.\u001b[39m_asyncio_loop \u001b[38;5;241m=\u001b[39m asyncio\u001b[38;5;241m.\u001b[39mnew_event_loop()\n",
      "File \u001b[0;32m/opt/miniconda3/envs/uarm/lib/python3.9/site-packages/uArm_Python_SDK-2.0.6-py3.9.egg/uarm/comm/__init__.py:94\u001b[0m, in \u001b[0;36mSerial.connect\u001b[0;34m(self, port, baudrate, timeout)\u001b[0m\n\u001b[1;32m     92\u001b[0m     \u001b[38;5;28;01mif\u001b[39;00m \u001b[38;5;28mself\u001b[39m\u001b[38;5;241m.\u001b[39m_port \u001b[38;5;129;01mis\u001b[39;00m \u001b[38;5;28;01mNone\u001b[39;00m:\n\u001b[1;32m     93\u001b[0m         \u001b[38;5;28;01mraise\u001b[39;00m \u001b[38;5;167;01mException\u001b[39;00m(\u001b[38;5;124m'\u001b[39m\u001b[38;5;124mcan not found port, please connect the port via usb\u001b[39m\u001b[38;5;124m'\u001b[39m)\n\u001b[0;32m---> 94\u001b[0m \u001b[38;5;28mself\u001b[39m\u001b[38;5;241m.\u001b[39mcom \u001b[38;5;241m=\u001b[39m \u001b[43mserial\u001b[49m\u001b[38;5;241;43m.\u001b[39;49m\u001b[43mSerial\u001b[49m\u001b[43m(\u001b[49m\u001b[43mport\u001b[49m\u001b[38;5;241;43m=\u001b[39;49m\u001b[38;5;28;43mself\u001b[39;49m\u001b[38;5;241;43m.\u001b[39;49m\u001b[43m_port\u001b[49m\u001b[43m,\u001b[49m\u001b[43m \u001b[49m\u001b[43mbaudrate\u001b[49m\u001b[38;5;241;43m=\u001b[39;49m\u001b[38;5;28;43mself\u001b[39;49m\u001b[38;5;241;43m.\u001b[39;49m\u001b[43m_baudrate\u001b[49m\u001b[43m,\u001b[49m\u001b[43m \u001b[49m\u001b[43mtimeout\u001b[49m\u001b[38;5;241;43m=\u001b[39;49m\u001b[38;5;28;43mself\u001b[39;49m\u001b[38;5;241;43m.\u001b[39;49m\u001b[43m_timeout\u001b[49m\u001b[43m)\u001b[49m\n\u001b[1;32m     95\u001b[0m \u001b[38;5;28;01mif\u001b[39;00m \u001b[38;5;129;01mnot\u001b[39;00m \u001b[38;5;28mself\u001b[39m\u001b[38;5;241m.\u001b[39mcom\u001b[38;5;241m.\u001b[39misOpen():\n\u001b[1;32m     96\u001b[0m     \u001b[38;5;28;01mraise\u001b[39;00m \u001b[38;5;167;01mException\u001b[39;00m(\u001b[38;5;124m'\u001b[39m\u001b[38;5;124mserial open failed\u001b[39m\u001b[38;5;124m'\u001b[39m)\n",
      "File \u001b[0;32m/opt/miniconda3/envs/uarm/lib/python3.9/site-packages/pyserial-3.5-py3.9.egg/serial/serialutil.py:244\u001b[0m, in \u001b[0;36mSerialBase.__init__\u001b[0;34m(self, port, baudrate, bytesize, parity, stopbits, timeout, xonxoff, rtscts, write_timeout, dsrdtr, inter_byte_timeout, exclusive, **kwargs)\u001b[0m\n\u001b[1;32m    241\u001b[0m     \u001b[38;5;28;01mraise\u001b[39;00m \u001b[38;5;167;01mValueError\u001b[39;00m(\u001b[38;5;124m'\u001b[39m\u001b[38;5;124munexpected keyword arguments: \u001b[39m\u001b[38;5;132;01m{!r}\u001b[39;00m\u001b[38;5;124m'\u001b[39m\u001b[38;5;241m.\u001b[39mformat(kwargs))\n\u001b[1;32m    243\u001b[0m \u001b[38;5;28;01mif\u001b[39;00m port \u001b[38;5;129;01mis\u001b[39;00m \u001b[38;5;129;01mnot\u001b[39;00m \u001b[38;5;28;01mNone\u001b[39;00m:\n\u001b[0;32m--> 244\u001b[0m     \u001b[38;5;28;43mself\u001b[39;49m\u001b[38;5;241;43m.\u001b[39;49m\u001b[43mopen\u001b[49m\u001b[43m(\u001b[49m\u001b[43m)\u001b[49m\n",
      "File \u001b[0;32m/opt/miniconda3/envs/uarm/lib/python3.9/site-packages/pyserial-3.5-py3.9.egg/serial/serialposix.py:325\u001b[0m, in \u001b[0;36mSerial.open\u001b[0;34m(self)\u001b[0m\n\u001b[1;32m    323\u001b[0m \u001b[38;5;28;01mexcept\u001b[39;00m \u001b[38;5;167;01mOSError\u001b[39;00m \u001b[38;5;28;01mas\u001b[39;00m msg:\n\u001b[1;32m    324\u001b[0m     \u001b[38;5;28mself\u001b[39m\u001b[38;5;241m.\u001b[39mfd \u001b[38;5;241m=\u001b[39m \u001b[38;5;28;01mNone\u001b[39;00m\n\u001b[0;32m--> 325\u001b[0m     \u001b[38;5;28;01mraise\u001b[39;00m SerialException(msg\u001b[38;5;241m.\u001b[39merrno, \u001b[38;5;124m\"\u001b[39m\u001b[38;5;124mcould not open port \u001b[39m\u001b[38;5;132;01m{}\u001b[39;00m\u001b[38;5;124m: \u001b[39m\u001b[38;5;132;01m{}\u001b[39;00m\u001b[38;5;124m\"\u001b[39m\u001b[38;5;241m.\u001b[39mformat(\u001b[38;5;28mself\u001b[39m\u001b[38;5;241m.\u001b[39m_port, msg))\n\u001b[1;32m    326\u001b[0m \u001b[38;5;66;03m#~ fcntl.fcntl(self.fd, fcntl.F_SETFL, 0)  # set blocking\u001b[39;00m\n\u001b[1;32m    328\u001b[0m \u001b[38;5;28mself\u001b[39m\u001b[38;5;241m.\u001b[39mpipe_abort_read_r, \u001b[38;5;28mself\u001b[39m\u001b[38;5;241m.\u001b[39mpipe_abort_read_w \u001b[38;5;241m=\u001b[39m \u001b[38;5;28;01mNone\u001b[39;00m, \u001b[38;5;28;01mNone\u001b[39;00m\n",
      "\u001b[0;31mSerialException\u001b[0m: [Errno 2] could not open port COM4: [Errno 2] No such file or directory: 'COM4'"
     ]
    }
   ],
   "source": [
    "# Note if you are running this you will need to make sure that you run with \"Administrator Permissions\"\n",
    "swift = SwiftAPI(port=\"COM4\", callback_thread_pool_size=1)"
   ]
  },
  {
   "cell_type": "markdown",
   "metadata": {},
   "source": [
    "If you get anything but an error the device is likely connected. On mine there is a loud single **beep** from the arm when it is connected. "
   ]
  },
  {
   "cell_type": "code",
   "execution_count": 3,
   "metadata": {},
   "outputs": [
    {
     "name": "stdout",
     "output_type": "stream",
     "text": [
      "[VERBOSE] 2020-02-09 13:27:22 [..\\uarm\\comm\\threaded.py:102]: send: COM4, b'#1 P2201\\n'\n",
      "[VERBOSE] 2020-02-09 13:27:22 [..\\uarm\\comm\\threaded.py:102]: send: COM4, b'#2 P2202\\n'\n",
      "[VERBOSE] 2020-02-09 13:27:23 [..\\uarm\\comm\\__init__.py:38]: recv: start\n",
      "[VERBOSE] 2020-02-09 13:27:23 [..\\uarm\\comm\\__init__.py:38]: recv: echo:Marlin 1.1.0-RC7\n",
      "[VERBOSE] 2020-02-09 13:27:23 [..\\uarm\\comm\\__init__.py:38]: recv: echo: Last Updated: 2016-07-31 12:00 | Author: (none, default config)\n",
      "[VERBOSE] 2020-02-09 13:27:23 [..\\uarm\\comm\\__init__.py:38]: recv: Compiled: Nov  8 2017\n",
      "[VERBOSE] 2020-02-09 13:27:23 [..\\uarm\\comm\\__init__.py:38]: recv: echo: Free Memory: 2386  PlannerBufferBytes: 924\n",
      "[VERBOSE] 2020-02-09 13:27:23 [..\\uarm\\comm\\__init__.py:38]: recv: echo:Hardcoded Default Settings Loaded\n",
      "[VERBOSE] 2020-02-09 13:27:23 [..\\uarm\\comm\\__init__.py:38]: recv: echo:Steps per unit:\n",
      "[VERBOSE] 2020-02-09 13:27:23 [..\\uarm\\comm\\__init__.py:38]: recv: echo:  M92 X320.00 Y320.00 Z320.00 E84.88\n",
      "[VERBOSE] 2020-02-09 13:27:23 [..\\uarm\\comm\\__init__.py:38]: recv: echo:Maximum feedrates (mm/s):\n",
      "[VERBOSE] 2020-02-09 13:27:23 [..\\uarm\\comm\\__init__.py:38]: recv: echo:  M203 X2000.00 Y2000.00 Z2000.00 E25.00\n",
      "[VERBOSE] 2020-02-09 13:27:23 [..\\uarm\\comm\\__init__.py:38]: recv: echo:Maximum Acceleration (mm/s2):\n",
      "[VERBOSE] 2020-02-09 13:27:23 [..\\uarm\\comm\\__init__.py:38]: recv: echo:  M201 X2000 Y2000 Z2000 E10000\n",
      "[VERBOSE] 2020-02-09 13:27:23 [..\\uarm\\comm\\__init__.py:38]: recv: echo:Accelerations: P=printing, R=retract and T=travel\n",
      "[VERBOSE] 2020-02-09 13:27:23 [..\\uarm\\comm\\__init__.py:38]: recv: echo:  M204 P25.00 R25.00 T100.00\n",
      "[VERBOSE] 2020-02-09 13:27:23 [..\\uarm\\comm\\__init__.py:38]: recv: echo:Advanced variables: S=Min feedrate (mm/s), T=Min travel feedrate (mm/s), B=minimum segment time (ms), X=maximum XY jerk (mm/s),  Z=maximum Z jerk (mm/s),  E=maximum E jerk (mm/s)\n",
      "[VERBOSE] 2020-02-09 13:27:23 [..\\uarm\\comm\\__init__.py:38]: recv: echo:  M205 S0.00 T0.00 B20000 X1.00 Z1.00 E5.00\n",
      "[VERBOSE] 2020-02-09 13:27:23 [..\\uarm\\comm\\__init__.py:38]: recv: echo:Home offset (mm)\n",
      "[VERBOSE] 2020-02-09 13:27:23 [..\\uarm\\comm\\__init__.py:38]: recv: echo:  M206 X0.00 Y0.00 Z0.00\n",
      "[VERBOSE] 2020-02-09 13:27:23 [..\\uarm\\comm\\__init__.py:38]: recv: echo:PID settings:\n",
      "[VERBOSE] 2020-02-09 13:27:23 [..\\uarm\\comm\\__init__.py:38]: recv: echo:  M301 P22.20 I1.08 D114.00\n",
      "[VERBOSE] 2020-02-09 13:27:23 [..\\uarm\\comm\\__init__.py:38]: recv: echo:Filament settings: Disabled\n",
      "[VERBOSE] 2020-02-09 13:27:23 [..\\uarm\\comm\\__init__.py:38]: recv: echo:  M200 D1.75\n",
      "[VERBOSE] 2020-02-09 13:27:23 [..\\uarm\\comm\\__init__.py:38]: recv: echo:  M200 D0\n",
      "[VERBOSE] 2020-02-09 13:27:25 [..\\uarm\\comm\\__init__.py:38]: recv: @5 V1\n",
      "[VERBOSE] 2020-02-09 13:27:32 [..\\uarm\\comm\\threaded.py:102]: send: COM4, b'#3 P2203\\n'\n",
      "[VERBOSE] 2020-02-09 13:27:32 [..\\uarm\\comm\\__init__.py:38]: recv: $3 ok V3.2.0\n",
      "[VERBOSE] 2020-02-09 13:27:32 [..\\uarm\\comm\\threaded.py:102]: send: COM4, b'#4 P2204\\n'\n",
      "[VERBOSE] 2020-02-09 13:27:32 [..\\uarm\\comm\\threaded.py:102]: send: COM4, b'#5 P2205\\n'\n",
      "[VERBOSE] 2020-02-09 13:27:32 [..\\uarm\\comm\\__init__.py:38]: recv: $4 ok V3.2.0\n",
      "[VERBOSE] 2020-02-09 13:27:32 [..\\uarm\\comm\\__init__.py:38]: recv: $5 ok V78DB2FB28F96\n",
      "{'device_type': None, 'hardware_version': None, 'firmware_version': '3.2.0', 'api_version': '3.2.0', 'device_unique': '78DB2FB28F96'}\n"
     ]
    }
   ],
   "source": [
    "device_info = swift.get_device_info()\n",
    "print(device_info)"
   ]
  },
  {
   "cell_type": "markdown",
   "metadata": {},
   "source": [
    "##  Make some small movements to confirm that it's connected"
   ]
  },
  {
   "cell_type": "code",
   "execution_count": 4,
   "metadata": {},
   "outputs": [
    {
     "name": "stdout",
     "output_type": "stream",
     "text": [
      "[VERBOSE] 2020-02-09 13:27:32 [..\\uarm\\comm\\threaded.py:102]: send: COM4, b'#6 G0 X200.0 Y0.0 Z100.0 F5000\\n'\n"
     ]
    }
   ],
   "source": [
    "swift.set_position(x=200, y=0, z=100)"
   ]
  },
  {
   "cell_type": "markdown",
   "metadata": {},
   "source": [
    "The arm should have moved. To test, try entering another coordinate. "
   ]
  },
  {
   "cell_type": "code",
   "execution_count": 5,
   "metadata": {},
   "outputs": [
    {
     "name": "stdout",
     "output_type": "stream",
     "text": [
      "[VERBOSE] 2020-02-09 13:27:32 [..\\uarm\\comm\\threaded.py:102]: send: COM4, b'#7 G0 X100.0 Y100.0 Z130.0 F5000\\n'\n"
     ]
    }
   ],
   "source": [
    "swift.set_position(x=100, y=100, z=130)"
   ]
  },
  {
   "cell_type": "markdown",
   "metadata": {},
   "source": [
    "## Close the connection\n",
    "\n",
    "At the end, disconnect from the Arm so that other applications can use it. "
   ]
  },
  {
   "cell_type": "code",
   "execution_count": 6,
   "metadata": {},
   "outputs": [
    {
     "name": "stdout",
     "output_type": "stream",
     "text": [
      "[INFO] 2020-02-09 13:27:32 [..\\uarm\\comm\\__init__.py:50]: connection is lost\n",
      "[DEBUG] 2020-02-09 13:27:32 [..\\uarm\\comm\\threaded.py:96]: serial read thread exit ...\n",
      "[DEBUG] 2020-02-09 13:27:32 [..\\uarm\\swift\\__init__.py:200]: serial result handle thread exit ...\n"
     ]
    }
   ],
   "source": [
    "swift.disconnect()"
   ]
  },
  {
   "cell_type": "code",
   "execution_count": null,
   "metadata": {},
   "outputs": [],
   "source": []
  }
 ],
 "metadata": {
  "kernelspec": {
   "display_name": "Python 3 (ipykernel)",
   "language": "python",
   "name": "python3"
  },
  "language_info": {
   "codemirror_mode": {
    "name": "ipython",
    "version": 3
   },
   "file_extension": ".py",
   "mimetype": "text/x-python",
   "name": "python",
   "nbconvert_exporter": "python",
   "pygments_lexer": "ipython3",
   "version": "3.9.13"
  }
 },
 "nbformat": 4,
 "nbformat_minor": 4
}
